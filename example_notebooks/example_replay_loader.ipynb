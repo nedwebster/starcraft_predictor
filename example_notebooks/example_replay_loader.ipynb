{
 "cells": [
  {
   "cell_type": "markdown",
   "id": "2ab5131f",
   "metadata": {},
   "source": [
    "# Loading Replay with ReplayLoader"
   ]
  },
  {
   "cell_type": "markdown",
   "id": "94d83c97",
   "metadata": {},
   "source": [
    "### Setup"
   ]
  },
  {
   "cell_type": "code",
   "execution_count": 1,
   "id": "f10d569a",
   "metadata": {},
   "outputs": [],
   "source": [
    "import sys\n",
    "sys.path.append(\"..\")"
   ]
  },
  {
   "cell_type": "code",
   "execution_count": 2,
   "id": "e0426229",
   "metadata": {},
   "outputs": [],
   "source": [
    "import pandas as pd\n",
    "\n",
    "import starcraft_predictor as sc2"
   ]
  },
  {
   "cell_type": "markdown",
   "id": "b58d942c",
   "metadata": {},
   "source": [
    "The user can load a replay file by feeding a file path for the replay to the `sc2.Replay.from_path()` method."
   ]
  },
  {
   "cell_type": "code",
   "execution_count": 3,
   "id": "1907ed51",
   "metadata": {},
   "outputs": [],
   "source": [
    "replay_path = \"../example_data/example_replay.SC2Replay\"\n",
    "\n",
    "replay = sc2.Replay.from_path(path=replay_path)"
   ]
  },
  {
   "cell_type": "code",
   "execution_count": 4,
   "id": "543f6cca",
   "metadata": {},
   "outputs": [
    {
     "data": {
      "text/plain": [
       "Replay(filehash=1b017c9c244e1c635a717f5a69b45afee739737b6ed594c00476088fdfe1ce92, winner=2, player_1_race=Protoss, player_2_race=Protoss, events=[...])"
      ]
     },
     "execution_count": 4,
     "metadata": {},
     "output_type": "execute_result"
    }
   ],
   "source": [
    "replay"
   ]
  },
  {
   "cell_type": "code",
   "execution_count": 5,
   "id": "4156cb43",
   "metadata": {},
   "outputs": [
    {
     "name": "stdout",
     "output_type": "stream",
     "text": [
      "Replay Object \n",
      "  Filehash: 1b017c9c244e1c635a717f5a69b45afee739737b6ed594c00476088fdfe1ce92 \n",
      "  Winner: 2\n"
     ]
    }
   ],
   "source": [
    "print(replay)"
   ]
  },
  {
   "cell_type": "markdown",
   "id": "5ae826cf",
   "metadata": {},
   "source": [
    "Once the replay has been loaded, the user can feed that to the `sc2.ReplayEngine.build_dataframe()` method to construct a structured dataframe from the replay. The dataframe uses `seconds` as a unique key, and contains various information about the players at that point of time in the game."
   ]
  },
  {
   "cell_type": "code",
   "execution_count": 6,
   "id": "90f489f6",
   "metadata": {},
   "outputs": [
    {
     "data": {
      "text/html": [
       "<div>\n",
       "<style scoped>\n",
       "    .dataframe tbody tr th:only-of-type {\n",
       "        vertical-align: middle;\n",
       "    }\n",
       "\n",
       "    .dataframe tbody tr th {\n",
       "        vertical-align: top;\n",
       "    }\n",
       "\n",
       "    .dataframe thead th {\n",
       "        text-align: right;\n",
       "    }\n",
       "</style>\n",
       "<table border=\"1\" class=\"dataframe\">\n",
       "  <thead>\n",
       "    <tr style=\"text-align: right;\">\n",
       "      <th></th>\n",
       "      <th>filehash</th>\n",
       "      <th>winner</th>\n",
       "      <th>player_1_race</th>\n",
       "      <th>player_2_race</th>\n",
       "      <th>seconds</th>\n",
       "      <th>food_made_1</th>\n",
       "      <th>food_made_2</th>\n",
       "      <th>food_used_1</th>\n",
       "      <th>food_used_2</th>\n",
       "      <th>minerals_collection_rate_1</th>\n",
       "      <th>...</th>\n",
       "      <th>vespene_used_current_1</th>\n",
       "      <th>vespene_used_current_2</th>\n",
       "      <th>vespene_used_current_army_1</th>\n",
       "      <th>vespene_used_current_army_2</th>\n",
       "      <th>vespene_used_current_economy_1</th>\n",
       "      <th>vespene_used_current_economy_2</th>\n",
       "      <th>vespene_used_current_technology_1</th>\n",
       "      <th>vespene_used_current_technology_2</th>\n",
       "      <th>workers_active_count_1</th>\n",
       "      <th>workers_active_count_2</th>\n",
       "    </tr>\n",
       "  </thead>\n",
       "  <tbody>\n",
       "    <tr>\n",
       "      <th>0</th>\n",
       "      <td>1b017c9c244e1c635a717f5a69b45afee739737b6ed594...</td>\n",
       "      <td>2</td>\n",
       "      <td>Protoss</td>\n",
       "      <td>Protoss</td>\n",
       "      <td>0.0</td>\n",
       "      <td>15.0</td>\n",
       "      <td>15.0</td>\n",
       "      <td>12.0</td>\n",
       "      <td>12.0</td>\n",
       "      <td>0.0</td>\n",
       "      <td>...</td>\n",
       "      <td>0.0</td>\n",
       "      <td>0.0</td>\n",
       "      <td>0.0</td>\n",
       "      <td>0.0</td>\n",
       "      <td>0.0</td>\n",
       "      <td>0.0</td>\n",
       "      <td>0.0</td>\n",
       "      <td>0.0</td>\n",
       "      <td>12.0</td>\n",
       "      <td>12.0</td>\n",
       "    </tr>\n",
       "    <tr>\n",
       "      <th>1</th>\n",
       "      <td>1b017c9c244e1c635a717f5a69b45afee739737b6ed594...</td>\n",
       "      <td>2</td>\n",
       "      <td>Protoss</td>\n",
       "      <td>Protoss</td>\n",
       "      <td>10.0</td>\n",
       "      <td>15.0</td>\n",
       "      <td>15.0</td>\n",
       "      <td>13.0</td>\n",
       "      <td>13.0</td>\n",
       "      <td>251.0</td>\n",
       "      <td>...</td>\n",
       "      <td>0.0</td>\n",
       "      <td>0.0</td>\n",
       "      <td>0.0</td>\n",
       "      <td>0.0</td>\n",
       "      <td>0.0</td>\n",
       "      <td>0.0</td>\n",
       "      <td>0.0</td>\n",
       "      <td>0.0</td>\n",
       "      <td>12.0</td>\n",
       "      <td>12.0</td>\n",
       "    </tr>\n",
       "    <tr>\n",
       "      <th>2</th>\n",
       "      <td>1b017c9c244e1c635a717f5a69b45afee739737b6ed594...</td>\n",
       "      <td>2</td>\n",
       "      <td>Protoss</td>\n",
       "      <td>Protoss</td>\n",
       "      <td>20.0</td>\n",
       "      <td>15.0</td>\n",
       "      <td>15.0</td>\n",
       "      <td>13.0</td>\n",
       "      <td>14.0</td>\n",
       "      <td>643.0</td>\n",
       "      <td>...</td>\n",
       "      <td>0.0</td>\n",
       "      <td>0.0</td>\n",
       "      <td>0.0</td>\n",
       "      <td>0.0</td>\n",
       "      <td>0.0</td>\n",
       "      <td>0.0</td>\n",
       "      <td>0.0</td>\n",
       "      <td>0.0</td>\n",
       "      <td>13.0</td>\n",
       "      <td>13.0</td>\n",
       "    </tr>\n",
       "    <tr>\n",
       "      <th>3</th>\n",
       "      <td>1b017c9c244e1c635a717f5a69b45afee739737b6ed594...</td>\n",
       "      <td>2</td>\n",
       "      <td>Protoss</td>\n",
       "      <td>Protoss</td>\n",
       "      <td>30.0</td>\n",
       "      <td>15.0</td>\n",
       "      <td>15.0</td>\n",
       "      <td>14.0</td>\n",
       "      <td>14.0</td>\n",
       "      <td>727.0</td>\n",
       "      <td>...</td>\n",
       "      <td>0.0</td>\n",
       "      <td>0.0</td>\n",
       "      <td>0.0</td>\n",
       "      <td>0.0</td>\n",
       "      <td>0.0</td>\n",
       "      <td>0.0</td>\n",
       "      <td>0.0</td>\n",
       "      <td>0.0</td>\n",
       "      <td>13.0</td>\n",
       "      <td>13.0</td>\n",
       "    </tr>\n",
       "    <tr>\n",
       "      <th>4</th>\n",
       "      <td>1b017c9c244e1c635a717f5a69b45afee739737b6ed594...</td>\n",
       "      <td>2</td>\n",
       "      <td>Protoss</td>\n",
       "      <td>Protoss</td>\n",
       "      <td>40.0</td>\n",
       "      <td>15.0</td>\n",
       "      <td>15.0</td>\n",
       "      <td>14.0</td>\n",
       "      <td>15.0</td>\n",
       "      <td>727.0</td>\n",
       "      <td>...</td>\n",
       "      <td>0.0</td>\n",
       "      <td>0.0</td>\n",
       "      <td>0.0</td>\n",
       "      <td>0.0</td>\n",
       "      <td>0.0</td>\n",
       "      <td>0.0</td>\n",
       "      <td>0.0</td>\n",
       "      <td>0.0</td>\n",
       "      <td>13.0</td>\n",
       "      <td>14.0</td>\n",
       "    </tr>\n",
       "  </tbody>\n",
       "</table>\n",
       "<p>5 rows × 37 columns</p>\n",
       "</div>"
      ],
      "text/plain": [
       "                                            filehash  winner player_1_race  \\\n",
       "0  1b017c9c244e1c635a717f5a69b45afee739737b6ed594...       2       Protoss   \n",
       "1  1b017c9c244e1c635a717f5a69b45afee739737b6ed594...       2       Protoss   \n",
       "2  1b017c9c244e1c635a717f5a69b45afee739737b6ed594...       2       Protoss   \n",
       "3  1b017c9c244e1c635a717f5a69b45afee739737b6ed594...       2       Protoss   \n",
       "4  1b017c9c244e1c635a717f5a69b45afee739737b6ed594...       2       Protoss   \n",
       "\n",
       "  player_2_race seconds food_made_1 food_made_2 food_used_1 food_used_2  \\\n",
       "0       Protoss     0.0        15.0        15.0        12.0        12.0   \n",
       "1       Protoss    10.0        15.0        15.0        13.0        13.0   \n",
       "2       Protoss    20.0        15.0        15.0        13.0        14.0   \n",
       "3       Protoss    30.0        15.0        15.0        14.0        14.0   \n",
       "4       Protoss    40.0        15.0        15.0        14.0        15.0   \n",
       "\n",
       "  minerals_collection_rate_1  ... vespene_used_current_1  \\\n",
       "0                        0.0  ...                    0.0   \n",
       "1                      251.0  ...                    0.0   \n",
       "2                      643.0  ...                    0.0   \n",
       "3                      727.0  ...                    0.0   \n",
       "4                      727.0  ...                    0.0   \n",
       "\n",
       "  vespene_used_current_2 vespene_used_current_army_1  \\\n",
       "0                    0.0                         0.0   \n",
       "1                    0.0                         0.0   \n",
       "2                    0.0                         0.0   \n",
       "3                    0.0                         0.0   \n",
       "4                    0.0                         0.0   \n",
       "\n",
       "  vespene_used_current_army_2 vespene_used_current_economy_1  \\\n",
       "0                         0.0                            0.0   \n",
       "1                         0.0                            0.0   \n",
       "2                         0.0                            0.0   \n",
       "3                         0.0                            0.0   \n",
       "4                         0.0                            0.0   \n",
       "\n",
       "  vespene_used_current_economy_2 vespene_used_current_technology_1  \\\n",
       "0                            0.0                               0.0   \n",
       "1                            0.0                               0.0   \n",
       "2                            0.0                               0.0   \n",
       "3                            0.0                               0.0   \n",
       "4                            0.0                               0.0   \n",
       "\n",
       "  vespene_used_current_technology_2 workers_active_count_1  \\\n",
       "0                               0.0                   12.0   \n",
       "1                               0.0                   12.0   \n",
       "2                               0.0                   13.0   \n",
       "3                               0.0                   13.0   \n",
       "4                               0.0                   13.0   \n",
       "\n",
       "  workers_active_count_2  \n",
       "0                   12.0  \n",
       "1                   12.0  \n",
       "2                   13.0  \n",
       "3                   13.0  \n",
       "4                   14.0  \n",
       "\n",
       "[5 rows x 37 columns]"
      ]
     },
     "execution_count": 6,
     "metadata": {},
     "output_type": "execute_result"
    }
   ],
   "source": [
    "data = sc2.ReplayEngine.build_dataframe(replay)\n",
    "\n",
    "data.head()"
   ]
  },
  {
   "cell_type": "markdown",
   "id": "49b259f5",
   "metadata": {},
   "source": [
    "`filehash` can be used in conjuction with `seconds` as a unique key when multiple replays are concatenated together."
   ]
  }
 ],
 "metadata": {
  "kernelspec": {
   "display_name": "starcraft_predictor-D52Tkpxg",
   "language": "python",
   "name": "starcraft_predictor-d52tkpxg"
  },
  "language_info": {
   "codemirror_mode": {
    "name": "ipython",
    "version": 3
   },
   "file_extension": ".py",
   "mimetype": "text/x-python",
   "name": "python",
   "nbconvert_exporter": "python",
   "pygments_lexer": "ipython3",
   "version": "3.8.0"
  }
 },
 "nbformat": 4,
 "nbformat_minor": 5
}
