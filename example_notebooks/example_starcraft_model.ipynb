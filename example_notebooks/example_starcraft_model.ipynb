{
 "cells": [
  {
   "cell_type": "markdown",
   "id": "7e74f079",
   "metadata": {},
   "source": [
    "# Using the Starcraft Model"
   ]
  },
  {
   "cell_type": "code",
   "execution_count": 1,
   "id": "557a5b97",
   "metadata": {},
   "outputs": [],
   "source": [
    "import pandas as pd\n",
    "\n",
    "import sys\n",
    "sys.path.append(\"..\")\n",
    "import starcraft_predictor as scp"
   ]
  },
  {
   "cell_type": "markdown",
   "id": "cfbb1ebc",
   "metadata": {},
   "source": [
    "## Pre-trained Model"
   ]
  },
  {
   "cell_type": "markdown",
   "id": "b0fd821f",
   "metadata": {},
   "source": [
    "The package comes with a pre-trained model that the user can access using the `scp.starcraft_model` attribute."
   ]
  },
  {
   "cell_type": "code",
   "execution_count": 2,
   "id": "e893ef8a",
   "metadata": {},
   "outputs": [
    {
     "data": {
      "text/plain": [
       "StarcraftModel(xgb_model=XGBClassifier(base_score=0.5, booster='gbtree', colsample_bylevel=1,\n",
       "              colsample_bynode=1, colsample_bytree=0.9,\n",
       "              enable_categorical=False, gamma=0, gpu_id=-1,\n",
       "              importance_type=None, interaction_constraints='',\n",
       "              learning_rate=0.1, max_delta_step=0, max_depth=2,\n",
       "              min_child_weight=1, missing=nan, monotone_constraints='()',\n",
       "              n_estimators=100, n_jobs=8, num_parallel_tree=1, predictor='auto',\n",
       "              random_state=2709, reg_alpha=0, reg_lambda=1, scale_pos_weight=1,\n",
       "              subsample=0.75, tree_method='exact', validate_parameters=1,\n",
       "              verbosity=None))"
      ]
     },
     "execution_count": 2,
     "metadata": {},
     "output_type": "execute_result"
    }
   ],
   "source": [
    "scp.starcraft_model"
   ]
  },
  {
   "cell_type": "markdown",
   "id": "90561bf4",
   "metadata": {},
   "source": [
    "The model can be used to generate win probability predictions from a cleaned replay using the `scp.starcraft_model.predict()` method."
   ]
  },
  {
   "cell_type": "code",
   "execution_count": 3,
   "id": "86e81904",
   "metadata": {},
   "outputs": [],
   "source": [
    "# load example replay, build a dataframe, and pre-process the dataframe ready for scoring\n",
    "replay_path = \"../example_data/example_replay.SC2Replay\"\n",
    "replay = scp.Replay.from_path(path=replay_path)\n",
    "data = scp.ReplayEngine.build_dataframe(replay)\n",
    "transformed_data = scp.sc2_preprocessing_pipeline.transform(data)"
   ]
  },
  {
   "cell_type": "markdown",
   "id": "9fb9e82f",
   "metadata": {},
   "source": [
    "Predictions can be generated with or without smoothing (smoothing is set to `True` by default)."
   ]
  },
  {
   "cell_type": "code",
   "execution_count": 4,
   "id": "8c97afb8",
   "metadata": {},
   "outputs": [],
   "source": [
    "predictions = scp.starcraft_model.predict(transformed_data, smoothed=True)"
   ]
  },
  {
   "cell_type": "code",
   "execution_count": 5,
   "id": "7831d7d4",
   "metadata": {},
   "outputs": [
    {
     "data": {
      "text/plain": [
       "array([0.96470514, 0.96467246, 0.96465612, 0.97163463, 0.97512388])"
      ]
     },
     "execution_count": 5,
     "metadata": {},
     "output_type": "execute_result"
    }
   ],
   "source": [
    "predictions[-5:]"
   ]
  },
  {
   "cell_type": "markdown",
   "id": "411cbb8f",
   "metadata": {},
   "source": [
    "## Training a Model"
   ]
  },
  {
   "cell_type": "markdown",
   "id": "eab202fd",
   "metadata": {},
   "source": [
    "The user has the option to train their own model using the `scp.StarcraftModelEngine.train_model()` class method.\n",
    "\n",
    "Note: Hyperparameters for the model are stored in a config dictionary `scp.modelling.model_params.PARAMS`, and can be updated from there prior to model building. There are future plans to make updatin hyperparameters more user friendly."
   ]
  },
  {
   "cell_type": "code",
   "execution_count": 6,
   "id": "8af009a7",
   "metadata": {},
   "outputs": [],
   "source": [
    "# fabrciate a dataset from one replay, this is not a genuine dataset to build a model form. It is only used\n",
    "# here for demonstration purposes.\n",
    "transformed_data.loc[0, \"winner\"] = 0"
   ]
  },
  {
   "cell_type": "code",
   "execution_count": 7,
   "id": "27c353bb",
   "metadata": {},
   "outputs": [],
   "source": [
    "user_model = scp.StarcraftModelEngine.train_model(data=transformed_data)"
   ]
  },
  {
   "cell_type": "code",
   "execution_count": 8,
   "id": "283b10bd",
   "metadata": {},
   "outputs": [
    {
     "data": {
      "text/plain": [
       "StarcraftModel(xgb_model=XGBClassifier(base_score=0.5, booster='gbtree', colsample_bylevel=1,\n",
       "              colsample_bynode=1, colsample_bytree=0.9,\n",
       "              enable_categorical=False, gamma=0, gpu_id=-1,\n",
       "              importance_type=None, interaction_constraints='',\n",
       "              learning_rate=0.1, max_delta_step=0, max_depth=4,\n",
       "              min_child_weight=1, missing=nan, monotone_constraints='()',\n",
       "              n_estimators=500, n_jobs=8, num_parallel_tree=1, predictor='auto',\n",
       "              random_state=2709, reg_alpha=0, reg_lambda=1, scale_pos_weight=1,\n",
       "              subsample=0.75, tree_method='exact', use_label_encoder=False,\n",
       "              validate_parameters=1, verbosity=None))"
      ]
     },
     "execution_count": 8,
     "metadata": {},
     "output_type": "execute_result"
    }
   ],
   "source": [
    "user_model"
   ]
  }
 ],
 "metadata": {
  "kernelspec": {
   "display_name": "starcraft_predictor-D52Tkpxg",
   "language": "python",
   "name": "starcraft_predictor-d52tkpxg"
  },
  "language_info": {
   "codemirror_mode": {
    "name": "ipython",
    "version": 3
   },
   "file_extension": ".py",
   "mimetype": "text/x-python",
   "name": "python",
   "nbconvert_exporter": "python",
   "pygments_lexer": "ipython3",
   "version": "3.8.0"
  }
 },
 "nbformat": 4,
 "nbformat_minor": 5
}
